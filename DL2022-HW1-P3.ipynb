{
  "cells": [
    {
      "cell_type": "markdown",
      "metadata": {
        "deletable": false,
        "editable": false,
        "heading_collapsed": true,
        "run_control": {
          "frozen": true
        },
        "id": "XWHK5Z-mAgLe"
      },
      "source": [
        "# Deep Learning"
      ]
    },
    {
      "cell_type": "markdown",
      "metadata": {
        "deletable": false,
        "editable": false,
        "heading_collapsed": true,
        "hidden": true,
        "run_control": {
          "frozen": true
        },
        "id": "LHlMJFK6AgMY"
      },
      "source": [
        "## HW1- Problem 3 - Regression (100 pts)"
      ]
    },
    {
      "cell_type": "markdown",
      "metadata": {
        "heading_collapsed": true,
        "hidden": true,
        "id": "YCeh_1oLAgMb"
      },
      "source": [
        "### Please fill this part\n",
        "\n",
        "\n",
        "1.   Full Name: Sobhan Asasi\n",
        "2.   Student Number: 400206392\n",
        "\n",
        "\n",
        "*You are just allowded to change those parts that start with \"TO DO\". Please do not change other parts.*\n",
        "\n",
        "*It is highly recommended to read each codeline carefully and try to understand what it exactly does. Best of luck and have fun!*"
      ]
    },
    {
      "cell_type": "code",
      "execution_count": null,
      "metadata": {
        "hidden": true,
        "id": "BFkaISP3AgMd"
      },
      "outputs": [],
      "source": [
        "# You are not allowed to import other packages.\n",
        "\n",
        "import numpy as np\n",
        "import pandas as pd\n",
        "\n",
        "from matplotlib import pyplot as plt\n",
        "from sklearn.metrics import mean_squared_error"
      ]
    },
    {
      "cell_type": "markdown",
      "metadata": {
        "deletable": false,
        "editable": false,
        "heading_collapsed": true,
        "hidden": true,
        "run_control": {
          "frozen": true
        },
        "id": "W9djFlmQAgMu"
      },
      "source": [
        "### Part1:\n",
        "Consider the dataset which has been given to you. Split the dataset into the `training dataset` and `test dataset`. You can use `80%` of the data for training and the rest for testing."
      ]
    },
    {
      "cell_type": "code",
      "execution_count": null,
      "metadata": {
        "hidden": true,
        "id": "gztjtc_XAgM0"
      },
      "outputs": [],
      "source": [
        "dataset = pd.read_csv(\"./data/data01.csv\")\n",
        "\n",
        "# implement the split part\n",
        "# name them: x_train, x_test, y_train, y_test\n",
        "\n",
        "training_data = dataset.sample(frac=0.8, random_state=50).reset_index(drop=True)\n",
        "testing_data = dataset.drop(training_data.index).reset_index(drop=True)\n",
        "\n",
        "x_train = training_data.iloc[:,1].to_numpy().reshape(-1,1)\n",
        "y_train = training_data.iloc[:,2].to_numpy().reshape(-1,1)\n",
        "\n",
        "x_test = testing_data.iloc[:,1].to_numpy().reshape(-1,1)\n",
        "y_test = testing_data.iloc[:,2].to_numpy().reshape(-1,1)"
      ]
    },
    {
      "cell_type": "markdown",
      "metadata": {
        "deletable": false,
        "editable": false,
        "heading_collapsed": true,
        "hidden": true,
        "run_control": {
          "frozen": true
        },
        "id": "CPAxhJOIAgNP"
      },
      "source": [
        "### Part2:\n",
        "Assume there is simple linear relationship between X and Y. Train a simple `Linear Regression` on the training dataset and report its accuracy on the training and testing dataset, separately."
      ]
    },
    {
      "cell_type": "code",
      "execution_count": null,
      "metadata": {
        "hidden": true,
        "id": "Y6jUaOwqAgNf"
      },
      "outputs": [],
      "source": [
        "# here you can implement via sgd or use least square solution. we suggest the second one inv(A^T A) * A^T y.\n",
        "# consider m as the returned line --> m[0] = the slope , m[1] = y intercept, also don't forget to use numpy for calculating m.\n",
        "a = np.ones((x_train.shape[0],1))\n",
        "A = np.append(x_train, a, axis=1)\n",
        "A_T = np.transpose(A)\n",
        "B = np.matmul(np.linalg.inv(np.matmul(A_T, A)),A_T)\n",
        "m = np.matmul(B, y_train)"
      ]
    },
    {
      "cell_type": "code",
      "execution_count": null,
      "metadata": {
        "hidden": true,
        "colab": {
          "base_uri": "https://localhost:8080/"
        },
        "id": "LcHdDUpUAgNk",
        "outputId": "ef11545c-7868-499d-f3dc-e70416495af8"
      },
      "outputs": [
        {
          "output_type": "stream",
          "name": "stdout",
          "text": [
            "MSE train error: 0.32616732494155826\n",
            "MSE test error: 0.35262722139320324\n"
          ]
        }
      ],
      "source": [
        "predicted_train_y = m[0] * x_train + m[1]\n",
        "predicted_test_y = m[0] * x_test + m[1]\n",
        "\n",
        "train_error = mean_squared_error(predicted_train_y, y_train)\n",
        "test_error = mean_squared_error(predicted_test_y, y_test)\n",
        "\n",
        "print(f\"MSE train error: {train_error}\\nMSE test error: {test_error}\")"
      ]
    },
    {
      "cell_type": "markdown",
      "metadata": {
        "deletable": false,
        "editable": false,
        "heading_collapsed": true,
        "hidden": true,
        "run_control": {
          "frozen": true
        },
        "id": "Q04KM-e4AgNm"
      },
      "source": [
        "### Part3:\n",
        "Draw the line you've found in the last part, on train and test points (each separately)."
      ]
    },
    {
      "cell_type": "code",
      "execution_count": null,
      "metadata": {
        "hidden": true,
        "colab": {
          "base_uri": "https://localhost:8080/",
          "height": 298
        },
        "id": "_gBMh07tAgNs",
        "outputId": "a41fd342-aeb7-48bb-fffb-afc703a63644"
      },
      "outputs": [
        {
          "output_type": "execute_result",
          "data": {
            "text/plain": [
              "Text(0.5, 1.0, 'Train dataset')"
            ]
          },
          "metadata": {},
          "execution_count": 8
        },
        {
          "output_type": "display_data",
          "data": {
            "text/plain": [
              "<Figure size 432x288 with 1 Axes>"
            ],
            "image/png": "[encoded data removed]"
          },
          "metadata": {
            "needs_background": "light"
          }
        }
      ],
      "source": [
        "plt.scatter(x_train, y_train)\n",
        "plt.scatter(x_train, m[0]*x_train + m[1], s=1)\n",
        "plt.title(\"Train dataset\")"
      ]
    },
    {
      "cell_type": "code",
      "execution_count": null,
      "metadata": {
        "hidden": true,
        "colab": {
          "base_uri": "https://localhost:8080/",
          "height": 298
        },
        "id": "hyNYvRxMAgNv",
        "outputId": "2409e5f4-9c76-4d3f-b9ef-b0a4b4049dd4"
      },
      "outputs": [
        {
          "output_type": "execute_result",
          "data": {
            "text/plain": [
              "Text(0.5, 1.0, 'Test dataset')"
            ]
          },
          "metadata": {},
          "execution_count": 9
        },
        {
          "output_type": "display_data",
          "data": {
            "text/plain": [
              "<Figure size 432x288 with 1 Axes>"
            ],
            "image/png": "[encoded data removed]"
          },
          "metadata": {
            "needs_background": "light"
          }
        }
      ],
      "source": [
        "plt.scatter(x_test, y_test)\n",
        "plt.scatter(x_test, m[0]*x_test + m[1], s=1)\n",
        "plt.title(\"Test dataset\")"
      ]
    },
    {
      "cell_type": "markdown",
      "metadata": {
        "deletable": false,
        "editable": false,
        "heading_collapsed": true,
        "hidden": true,
        "run_control": {
          "frozen": true
        },
        "id": "AS6zwYWdAgNx"
      },
      "source": [
        "### Part4:\n",
        "Were the reported accuracies acceptable?\n",
        "\n",
        "What about the line you drew in the last part?\n",
        "\n",
        "Was it appropriate for the dataset?\n",
        "<br><br/>\n",
        "Explain what are the main problems here."
      ]
    },
    {
      "cell_type": "markdown",
      "metadata": {
        "hidden": true,
        "id": "YrTRDmnOAgNy"
      },
      "source": [
        "-write here-\n",
        "\n",
        "خطاهای بدست آمده 0.36 و 0.35 هستند که قابل قبول نیستند.\n",
        "\n",
        "آخرین خط رسم شده مربوط به داده های تست هستند هر داده تست در شیب بدست آمده ضرب میشود و با بایاس محاسبه جمع می شود. مشاهده میشود که خط تخمین زده شده با مقادیر اصلی تفاوت زیادی دارد.\n",
        "\n",
        "طبیعتا این تخمین برای این دیتاست مناسب نیست چرا که با رسم داده ها متوجه میشویم که فرم داده های ما بصورت خطی نیستند پس با رگرسیون خطی هم نمیتوان این داده ها را مدل کرد.نقاط دیتاست ما فرم غیرخطی دارند ولی رگرسیون خطی تخمین خطی است."
      ]
    },
    {
      "cell_type": "markdown",
      "metadata": {
        "deletable": false,
        "editable": false,
        "heading_collapsed": true,
        "hidden": true,
        "run_control": {
          "frozen": true
        },
        "id": "sm0ZfSySAgNz"
      },
      "source": [
        "### Part5:\n",
        "Now, consider the `Locally Weighted Linear Regression` approach for this problem. Do expect it performs better than simple `Linear Regression` for this dataset?"
      ]
    },
    {
      "cell_type": "markdown",
      "metadata": {
        "hidden": true,
        "id": "9KUzNMpPAgN0"
      },
      "source": [
        "-write here-\n",
        "\n",
        "این مدل وزن دار برای فاز تست عملکرد به مراتب بهتری نسبت به مدل خطی دارد، چرا که در این مدل برای هر نقطه تست یک شیب و بایاس تخمین زده میشود و مقدار این شیب و بایاس تخمین زده شده بر مبنای نقاط آموزشی است که حول نقطه هستند. در محاسبه این بایاس و شیب تمامی نقاط نقش دارند اما نقش نقاط نزدیکتر به نقطه تست پر رنگتر است ، به بیانی دیگر نقاط نزدیکتر وزن بیشتری دارند. این وزن ها توسط یک تابع مشخص که آن را تابع وزن مینامیم مشخص میشود."
      ]
    },
    {
      "cell_type": "markdown",
      "metadata": {
        "deletable": false,
        "editable": false,
        "heading_collapsed": true,
        "hidden": true,
        "run_control": {
          "frozen": true
        },
        "id": "4HrhsCFBAgN0"
      },
      "source": [
        "### Part6:\n",
        "Here, we want to implement the `suggested model`. You can implement any weight function you want, the below implementation is just a sample:\n",
        "<br><br/>\n",
        "\\begin{equation*}\n",
        "    w^{(i)}=exp\\left(-\\frac{(\\mathbf x^{(i)}-\\mathbf x)^\\top(\\mathbf x^{(i)}-\\mathbf x)}{2\\tau^2}\\right)\n",
        "\\end{equation*}"
      ]
    },
    {
      "cell_type": "code",
      "execution_count": null,
      "metadata": {
        "hidden": true,
        "id": "H4XpqcENAgN1"
      },
      "outputs": [],
      "source": [
        "def get_weight_matrix(the_query_point, train_dataset, hyperparameter):\n",
        "    l = train_dataset.shape[0]\n",
        "    W = np.mat(np.eye(l))\n",
        "    for i, xi in enumerate(train_dataset):\n",
        "        the_query_point = np.ravel(the_query_point)\n",
        "        diff = xi - the_query_point\n",
        "        W[i, i] = np.exp(-1*np.matmul(np.transpose(diff),diff)/(2*hyperparameter**2))\n",
        "    return W"
      ]
    },
    {
      "cell_type": "markdown",
      "metadata": {
        "deletable": false,
        "editable": false,
        "hidden": true,
        "run_control": {
          "frozen": true
        },
        "id": "EN3BVV03AgN2"
      },
      "source": [
        "Now implement the `closed form solution` based on the following formula:\n",
        "<br><br/>\n",
        "\\begin{equation*}\n",
        "    \\boldsymbol\\theta=(X^\\top WX)^{-1}(X^\\top WY)\n",
        "\\end{equation*}\n",
        "<br><br/>\n",
        "Of course if you use another form, implement your own."
      ]
    },
    {
      "cell_type": "code",
      "execution_count": null,
      "metadata": {
        "hidden": true,
        "id": "KM1IQFPoAgN3"
      },
      "outputs": [],
      "source": [
        "def predict(train_X, train_Y, query_x, hyperparameter):\n",
        "    l = train_X.shape[0]\n",
        "    X = np.hstack((train_X, np.ones((l, 1))))\n",
        "    qx = np.mat([query_x, 1])\n",
        "    W = get_weight_matrix(qx, X, hyperparameter)\n",
        "    a = np.matmul(np.transpose(X), W)\n",
        "    b = np.linalg.inv(np.matmul(a,X))\n",
        "    c = np.matmul(a, train_Y)\n",
        "    theta = np.matmul(b, c)\n",
        "    return np.dot(qx, theta)"
      ]
    },
    {
      "cell_type": "markdown",
      "metadata": {
        "deletable": false,
        "editable": false,
        "heading_collapsed": true,
        "hidden": true,
        "run_control": {
          "frozen": true
        },
        "id": "y5j2R81IAgN5"
      },
      "source": [
        "### Part7:\n",
        "Report accuracy of this model on the test dataset. Also, draw a plot that contains (x_test, y_test) pairs and (x_test, predicted_y) pairs that differ in color."
      ]
    },
    {
      "cell_type": "code",
      "execution_count": null,
      "metadata": {
        "hidden": true,
        "colab": {
          "base_uri": "https://localhost:8080/"
        },
        "id": "Br0kv6ugAgN9",
        "outputId": "62f216f2-f618-443c-e325-1adeabe7ca17"
      },
      "outputs": [
        {
          "output_type": "stream",
          "name": "stderr",
          "text": [
            "/usr/local/lib/python3.7/dist-packages/numpy/matrixlib/defmatrix.py:145: VisibleDeprecationWarning: Creating an ndarray from ragged nested sequences (which is a list-or-tuple of lists-or-tuples-or ndarrays with different lengths or shapes) is deprecated. If you meant to do this, you must specify 'dtype=object' when creating the ndarray.\n",
            "  arr = N.array(data, dtype=dtype, copy=copy)\n"
          ]
        },
        {
          "output_type": "stream",
          "name": "stdout",
          "text": [
            "MSE test error: 0.09039403767702782\n"
          ]
        }
      ],
      "source": [
        "hyperparameter = 0.05\n",
        "predicted_test = [predict(x_train, y_train, query, hyperparameter) for query in x_test]\n",
        "predicted_test = np.asarray(predicted_test)\n",
        "error = mean_squared_error(predicted_test.reshape(-1,1), y_test)\n",
        "print(f\"MSE test error: {error}\")"
      ]
    },
    {
      "cell_type": "code",
      "execution_count": null,
      "metadata": {
        "hidden": true,
        "colab": {
          "base_uri": "https://localhost:8080/",
          "height": 283
        },
        "id": "6_xZgySAAgN_",
        "outputId": "8cbf7868-bd1e-4b03-8ef1-ceaf1758fbe7"
      },
      "outputs": [
        {
          "output_type": "execute_result",
          "data": {
            "text/plain": [
              "<matplotlib.collections.PathCollection at 0x7f923fcbe6d0>"
            ]
          },
          "metadata": {},
          "execution_count": 13
        },
        {
          "output_type": "display_data",
          "data": {
            "text/plain": [
              "<Figure size 432x288 with 1 Axes>"
            ],
            "image/png": "[encoded data removed]"
          },
          "metadata": {
            "needs_background": "light"
          }
        }
      ],
      "source": [
        "plt.scatter(x_test, y_test, c=\"blue\")\n",
        "plt.scatter(x_test, predicted_test, c=\"yellow\")"
      ]
    },
    {
      "cell_type": "markdown",
      "metadata": {
        "deletable": false,
        "editable": false,
        "heading_collapsed": true,
        "hidden": true,
        "run_control": {
          "frozen": true
        },
        "id": "LvpZgeYMAgOA"
      },
      "source": [
        "### Part8:\n",
        "Is the performance of the new model better than the previous one? `Explain`."
      ]
    },
    {
      "cell_type": "markdown",
      "metadata": {
        "hidden": true,
        "id": "88HhH45xAgOB"
      },
      "source": [
        "-write here-\n",
        "\n",
        "همانطور که به وضوح مشخص است این مدل وزن دار توانست یک دیتا غیر خطی را مدل کند و \n",
        "با محاسبات انجام شده بدست آمد که خطا از 0.35 به 0.09 رسیده است\n",
        "\n",
        "در حالت خطی با توجه به دادگان آموزش یک شیب و بایاس بدست می آمد و همان هم برای دادگان فاز تست بکار میرفت که با توجه به غیر خطی بودن داده ها خطا بسیار زیاد بود. اما در روش رگرسیون محلی وزن دار برای محاسبه جواب برای هر یک از نقاط تست یک شیب و بایاس بدست می آید، شیب و بایاس بدست آمده به همه داده ها مرتبط است ولی نقاط نزدیکتر به نقطه تست نقش بیشتری دارند و وزن بیشتری برای محاسبه وزن و بایاس دارند."
      ]
    },
    {
      "cell_type": "markdown",
      "metadata": {
        "deletable": false,
        "editable": false,
        "heading_collapsed": true,
        "hidden": true,
        "run_control": {
          "frozen": true
        },
        "id": "8nIbAs0MAgOB"
      },
      "source": [
        "### Part9:\n",
        "Now, we want to consider the `KNN` approach for this problem; Do you think it will perform well?"
      ]
    },
    {
      "cell_type": "markdown",
      "metadata": {
        "hidden": true,
        "id": "9xl3dEArAgOC"
      },
      "source": [
        "-write here-\n",
        "\n",
        "در این روش برای محاسبه مقدار هر نقطه تست تعداد مشخصی از نزدکترین نقاط آموزش به .\n",
        "آن استخراج میشود و روی مقادیر آنها میانگین گرفته میشود. این روش برای داده هایی که حالت غیر خطی دارند به مراتب از رگرسیون خطی بهتر است و میتواند برای داده های غیرخطی بکار رود."
      ]
    },
    {
      "cell_type": "markdown",
      "metadata": {
        "deletable": false,
        "editable": false,
        "heading_collapsed": true,
        "hidden": true,
        "run_control": {
          "frozen": true
        },
        "id": "sVXeYTbtAgOD"
      },
      "source": [
        "### Part10:\n",
        "Implementing the `KNN model`."
      ]
    },
    {
      "cell_type": "code",
      "execution_count": null,
      "metadata": {
        "hidden": true,
        "id": "6L-ldPKSAgOF"
      },
      "outputs": [],
      "source": [
        "class KNN:\n",
        "    def __init__(self, number_neighbours, X, Y):\n",
        "        self.k = number_neighbours\n",
        "        self.X = X\n",
        "        self.Y = Y\n",
        "        \n",
        "    def distance(self, x1, x2):\n",
        "        distance = ((x1 - x2)**2).sum(axis=1)**0.5\n",
        "        return distance\n",
        "\n",
        "    def return_nn_ids(self, x):\n",
        "        distances = self.distance(x, self.X)\n",
        "        indices = np.argpartition(distances, self.k)[:self.k]\n",
        "        return indices\n",
        "\n",
        "    def predict(self, x):\n",
        "        neareest_indices = self.return_nn_ids(x)\n",
        "        predicted_y = self.Y[neareest_indices,:].mean(axis=0)[0]\n",
        "        return predicted_y"
      ]
    },
    {
      "cell_type": "code",
      "execution_count": null,
      "metadata": {
        "hidden": true,
        "id": "xOKkwY8_AgOG"
      },
      "outputs": [],
      "source": [
        "def evaluation(k, x_train, y_train, x_test, y_test):\n",
        "    model = KNN(k, x_train, y_train)\n",
        "    predicted_y = [model.predict(x) for x in x_test]\n",
        "    predicted_y = np.asarray(predicted_y)\n",
        "    error = mean_squared_error(predicted_y, y_test)\n",
        "    return error, predicted_y"
      ]
    },
    {
      "cell_type": "code",
      "execution_count": null,
      "metadata": {
        "hidden": true,
        "colab": {
          "base_uri": "https://localhost:8080/"
        },
        "id": "A7HxvChgAgOH",
        "outputId": "e3c2aeb5-c34a-4af8-dfab-fe4c15e8b087"
      },
      "outputs": [
        {
          "output_type": "stream",
          "name": "stdout",
          "text": [
            "MSE error of KNN for test dataset: 0.08251116512990475\n"
          ]
        }
      ],
      "source": [
        "k = 10\n",
        "error_knn, predicted_y = evaluation(k, x_train, y_train, x_test, y_test)\n",
        "print(f\"MSE error of KNN for test dataset: {error_knn}\")"
      ]
    },
    {
      "cell_type": "code",
      "execution_count": null,
      "metadata": {
        "hidden": true,
        "colab": {
          "base_uri": "https://localhost:8080/",
          "height": 283
        },
        "id": "h4dE09pqAgOI",
        "outputId": "3de885a8-7d17-4bb5-e48e-2972274c4255"
      },
      "outputs": [
        {
          "output_type": "execute_result",
          "data": {
            "text/plain": [
              "<matplotlib.collections.PathCollection at 0x7f923fc2b750>"
            ]
          },
          "metadata": {},
          "execution_count": 17
        },
        {
          "output_type": "display_data",
          "data": {
            "text/plain": [
              "<Figure size 432x288 with 1 Axes>"
            ],
            "image/png": "[encoded data removed]"
          },
          "metadata": {
            "needs_background": "light"
          }
        }
      ],
      "source": [
        "plt.scatter(x_test, y_test, c=\"blue\")\n",
        "plt.scatter(x_test, predicted_y, c=\"yellow\")"
      ]
    },
    {
      "cell_type": "markdown",
      "source": [
        "To find best K for this algorithm we suggest to use cross-validation.\n",
        "<br><br/>\n",
        "Did this model perform well (due to the plot and test accuracy)?"
      ],
      "metadata": {
        "id": "P6q24-ZIDg6L"
      }
    },
    {
      "cell_type": "markdown",
      "source": [
        "-write here-\n",
        "\n",
        "همانطور که مشخص است خطای تست نسبت به رگرسیون خطی به مقدار بسیار زیادی کاهش یافت و نسبت به رگرسیون وزن دار محلی هم بهبود یافت.\n",
        "\n",
        "با توجه به نمودار رسم شده هم بهبود نسب به مدل رگرسیون خطی مشخص است منتها نسبت به رگرسیون وزن دار کمی از پیوستگی و نرم بودن خط کاسته شده است دلیلش هم این است که در رگرسیون وزن دار از همه نقاط استفاده میشد و برای هر نقطه یک شیب و بایاس بدست می آمد."
      ],
      "metadata": {
        "id": "XYFRT4OCcFAa"
      }
    },
    {
      "cell_type": "code",
      "execution_count": null,
      "metadata": {
        "colab": {
          "base_uri": "https://localhost:8080/"
        },
        "id": "415XmR9mAgOL",
        "outputId": "e797e5d4-7965-42a0-d897-215ceb61cdb9"
      },
      "outputs": [
        {
          "output_type": "execute_result",
          "data": {
            "text/plain": [
              "{'5': 0.10140582128692277,\n",
              " '10': 0.09696011751563918,\n",
              " '15': 0.09588453799636666}"
            ]
          },
          "metadata": {},
          "execution_count": 18
        }
      ],
      "source": [
        "K = [5,10,15]\n",
        "num_split = 10\n",
        "indexes = np.array(training_data.index)\n",
        "indexes_chunks = np.array_split(indexes, num_split)\n",
        "info = {}\n",
        "for k in K:\n",
        "    sum_error_k = 0\n",
        "    for chunk in indexes_chunks:\n",
        "        train_data = training_data.copy()\n",
        "        x_valid = train_data.iloc[chunk,1].to_numpy().reshape(-1,1)\n",
        "        y_valid = train_data.iloc[chunk,2].to_numpy().reshape(-1,1)\n",
        "        train = train_data.drop(index=chunk)\n",
        "        x_train = train.iloc[:,1].to_numpy().reshape(-1,1)\n",
        "        y_train = train.iloc[:,2].to_numpy().reshape(-1,1)\n",
        "        error_k,_ = evaluation(k, x_train, y_train, x_valid, y_valid)\n",
        "        sum_error_k += error_k\n",
        "    info[str(k)] = sum_error_k / num_split\n",
        "        \n",
        "        \n",
        "info"
      ]
    }
  ],
  "metadata": {
    "kernelspec": {
      "display_name": "Python 3 (ipykernel)",
      "language": "python",
      "name": "python3"
    },
    "language_info": {
      "codemirror_mode": {
        "name": "ipython",
        "version": 3
      },
      "file_extension": ".py",
      "mimetype": "text/x-python",
      "name": "python",
      "nbconvert_exporter": "python",
      "pygments_lexer": "ipython3",
      "version": "3.7.11"
    },
    "toc": {
      "base_numbering": 1,
      "nav_menu": {},
      "number_sections": true,
      "sideBar": true,
      "skip_h1_title": false,
      "title_cell": "Table of Contents",
      "title_sidebar": "Contents",
      "toc_cell": false,
      "toc_position": {},
      "toc_section_display": true,
      "toc_window_display": false
    },
    "varInspector": {
      "cols": {
        "lenName": 16,
        "lenType": 16,
        "lenVar": 40
      },
      "kernels_config": {
        "python": {
          "delete_cmd_postfix": "",
          "delete_cmd_prefix": "del ",
          "library": "var_list.py",
          "varRefreshCmd": "print(var_dic_list())"
        },
        "r": {
          "delete_cmd_postfix": ") ",
          "delete_cmd_prefix": "rm(",
          "library": "var_list.r",
          "varRefreshCmd": "cat(var_dic_list()) "
        }
      },
      "types_to_exclude": [
        "module",
        "function",
        "builtin_function_or_method",
        "instance",
        "_Feature"
      ],
      "window_display": false
    },
    "vscode": {
      "interpreter": {
        "hash": "aee8b7b246df8f9039afb4144a1f6fd8d2ca17a180786b69acc140d282b71a49"
      }
    },
    "colab": {
      "provenance": [],
      "collapsed_sections": []
    }
  },
  "nbformat": 4,
  "nbformat_minor": 0
}